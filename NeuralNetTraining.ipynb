{
 "cells": [
  {
   "cell_type": "code",
   "execution_count": 12,
   "metadata": {},
   "outputs": [],
   "source": [
    "import pandas as pd\n",
    "\n",
    "dataset = pd.read_csv(\"preprocessed.csv\", header=None)"
   ]
  },
  {
   "cell_type": "code",
   "execution_count": 13,
   "metadata": {},
   "outputs": [
    {
     "name": "stdout",
     "output_type": "stream",
     "text": [
      "<class 'pandas.core.frame.DataFrame'>\n",
      "RangeIndex: 164401 entries, 0 to 164400\n",
      "Data columns (total 65 columns):\n",
      "0     164401 non-null float64\n",
      "1     164401 non-null float64\n",
      "2     164401 non-null float64\n",
      "3     164401 non-null float64\n",
      "4     164401 non-null float64\n",
      "5     164401 non-null float64\n",
      "6     164401 non-null float64\n",
      "7     164401 non-null float64\n",
      "8     164401 non-null float64\n",
      "9     164401 non-null float64\n",
      "10    164401 non-null float64\n",
      "11    164401 non-null float64\n",
      "12    164401 non-null float64\n",
      "13    164401 non-null float64\n",
      "14    164401 non-null float64\n",
      "15    164401 non-null float64\n",
      "16    164401 non-null float64\n",
      "17    164401 non-null float64\n",
      "18    164401 non-null float64\n",
      "19    164401 non-null float64\n",
      "20    164401 non-null float64\n",
      "21    164401 non-null float64\n",
      "22    164401 non-null float64\n",
      "23    164401 non-null float64\n",
      "24    164401 non-null float64\n",
      "25    164401 non-null float64\n",
      "26    164401 non-null float64\n",
      "27    164401 non-null float64\n",
      "28    164401 non-null float64\n",
      "29    164401 non-null float64\n",
      "30    164401 non-null float64\n",
      "31    164401 non-null float64\n",
      "32    164401 non-null float64\n",
      "33    164401 non-null float64\n",
      "34    164401 non-null float64\n",
      "35    164401 non-null float64\n",
      "36    164401 non-null float64\n",
      "37    164401 non-null float64\n",
      "38    164401 non-null float64\n",
      "39    164401 non-null float64\n",
      "40    164401 non-null float64\n",
      "41    164401 non-null float64\n",
      "42    164401 non-null float64\n",
      "43    164401 non-null float64\n",
      "44    164401 non-null float64\n",
      "45    164401 non-null float64\n",
      "46    164401 non-null float64\n",
      "47    164401 non-null float64\n",
      "48    164401 non-null float64\n",
      "49    164401 non-null float64\n",
      "50    164401 non-null float64\n",
      "51    164401 non-null float64\n",
      "52    164401 non-null float64\n",
      "53    164401 non-null float64\n",
      "54    164401 non-null float64\n",
      "55    164401 non-null float64\n",
      "56    164401 non-null float64\n",
      "57    164401 non-null float64\n",
      "58    164401 non-null float64\n",
      "59    164401 non-null float64\n",
      "60    164401 non-null float64\n",
      "61    164401 non-null float64\n",
      "62    164401 non-null float64\n",
      "63    164401 non-null float64\n",
      "64    164401 non-null float64\n",
      "dtypes: float64(65)\n",
      "memory usage: 81.5 MB\n"
     ]
    }
   ],
   "source": [
    "dataset.info()"
   ]
  },
  {
   "cell_type": "code",
   "execution_count": 14,
   "metadata": {},
   "outputs": [],
   "source": [
    "y = dataset[64].values"
   ]
  },
  {
   "cell_type": "code",
   "execution_count": 15,
   "metadata": {},
   "outputs": [],
   "source": [
    "X = dataset.drop(64, axis=1)"
   ]
  },
  {
   "cell_type": "code",
   "execution_count": 16,
   "metadata": {},
   "outputs": [
    {
     "data": {
      "text/plain": [
       "(164401, 64)"
      ]
     },
     "execution_count": 16,
     "metadata": {},
     "output_type": "execute_result"
    }
   ],
   "source": [
    "X.shape"
   ]
  },
  {
   "cell_type": "code",
   "execution_count": 17,
   "metadata": {},
   "outputs": [],
   "source": [
    "from sklearn.model_selection import train_test_split\n",
    "\n",
    "train_X, test_X, train_y, test_y = train_test_split(X, y)"
   ]
  },
  {
   "cell_type": "code",
   "execution_count": 20,
   "metadata": {},
   "outputs": [
    {
     "name": "stdout",
     "output_type": "stream",
     "text": [
      "_________________________________________________________________\n",
      "Layer (type)                 Output Shape              Param #   \n",
      "=================================================================\n",
      "dense_10 (Dense)             (None, 64)                4160      \n",
      "_________________________________________________________________\n",
      "dense_11 (Dense)             (None, 32)                2080      \n",
      "_________________________________________________________________\n",
      "dense_12 (Dense)             (None, 1)                 33        \n",
      "=================================================================\n",
      "Total params: 6,273\n",
      "Trainable params: 6,273\n",
      "Non-trainable params: 0\n",
      "_________________________________________________________________\n"
     ]
    }
   ],
   "source": [
    "from keras.models import Sequential\n",
    "from keras.layers import Dense\n",
    "\n",
    "model = Sequential()\n",
    "\n",
    "model.add(Dense(64, input_dim=64))\n",
    "model.add(Dense(32))\n",
    "model.add(Dense(1))\n",
    "\n",
    "model.compile(optimizer='rmsprop',\n",
    "              loss='mse')\n",
    "\n",
    "model.summary()"
   ]
  },
  {
   "cell_type": "code",
   "execution_count": 21,
   "metadata": {},
   "outputs": [
    {
     "name": "stdout",
     "output_type": "stream",
     "text": [
      "Epoch 1/10\n",
      "123300/123300 [==============================] - 5s 41us/step - loss: 1406006.0780\n",
      "Epoch 2/10\n",
      "123300/123300 [==============================] - 5s 37us/step - loss: 1397440.0338\n",
      "Epoch 3/10\n",
      "123300/123300 [==============================] - 5s 40us/step - loss: 1400296.1496\n",
      "Epoch 4/10\n",
      "123300/123300 [==============================] - 6s 51us/step - loss: 1400758.2013\n",
      "Epoch 5/10\n",
      "123300/123300 [==============================] - 5s 38us/step - loss: 1401452.1479\n",
      "Epoch 6/10\n",
      "123300/123300 [==============================] - 5s 40us/step - loss: 1401499.7224\n",
      "Epoch 7/10\n",
      "123300/123300 [==============================] - 5s 38us/step - loss: 1401875.6321\n",
      "Epoch 8/10\n",
      "123300/123300 [==============================] - 5s 39us/step - loss: 1402413.0456\n",
      "Epoch 9/10\n",
      "123300/123300 [==============================] - 5s 41us/step - loss: 1402121.8881\n",
      "Epoch 10/10\n",
      "123300/123300 [==============================] - 5s 39us/step - loss: 1402453.3293\n"
     ]
    },
    {
     "data": {
      "text/plain": [
       "<keras.callbacks.History at 0x16f56e0c828>"
      ]
     },
     "execution_count": 21,
     "metadata": {},
     "output_type": "execute_result"
    }
   ],
   "source": [
    "model.fit(train_X, train_y, epochs=10, batch_size=32)"
   ]
  },
  {
   "cell_type": "code",
   "execution_count": 22,
   "metadata": {},
   "outputs": [
    {
     "name": "stdout",
     "output_type": "stream",
     "text": [
      "41101/41101 [==============================] - 1s 18us/step\n"
     ]
    },
    {
     "data": {
      "text/plain": [
       "1389582.3820399414"
      ]
     },
     "execution_count": 22,
     "metadata": {},
     "output_type": "execute_result"
    }
   ],
   "source": [
    "model.evaluate(test_X, test_y)"
   ]
  },
  {
   "cell_type": "code",
   "execution_count": 23,
   "metadata": {},
   "outputs": [],
   "source": [
    "model.save(\"model3.h5\")"
   ]
  },
  {
   "cell_type": "code",
   "execution_count": 56,
   "metadata": {},
   "outputs": [
    {
     "data": {
      "text/plain": [
       "array([[[10.,  0.,  0., ...,  0., 12.,  0.],\n",
       "        [ 7.,  9.,  0., ...,  7.,  7.,  7.],\n",
       "        [ 0.,  7.,  0., ...,  8.,  0.,  0.],\n",
       "        ...,\n",
       "        [ 0.,  0.,  0., ...,  2.,  0.,  1.],\n",
       "        [ 1.,  0.,  0., ...,  1.,  1.,  0.],\n",
       "        [ 0.,  0.,  0., ...,  4.,  6.,  0.]],\n",
       "\n",
       "       [[ 0.,  0.,  0., ...,  0.,  0.,  0.],\n",
       "        [ 7.,  7., 12., ...,  7.,  7.,  0.],\n",
       "        [ 0.,  0.,  0., ...,  0.,  0.,  0.],\n",
       "        ...,\n",
       "        [ 0.,  0.,  0., ...,  0.,  0.,  0.],\n",
       "        [ 1.,  1.,  6., ...,  0.,  0.,  0.],\n",
       "        [ 4.,  0.,  3., ...,  0.,  0.,  0.]],\n",
       "\n",
       "       [[10.,  0.,  0., ...,  0., 12.,  0.],\n",
       "        [ 0.,  7.,  0., ...,  7.,  7.,  7.],\n",
       "        [ 0.,  0.,  0., ...,  9.,  0.,  0.],\n",
       "        ...,\n",
       "        [ 0.,  0.,  1., ...,  2.,  0.,  0.],\n",
       "        [ 1.,  3.,  0., ...,  1.,  1.,  1.],\n",
       "        [ 4.,  0.,  0., ...,  0.,  6.,  0.]],\n",
       "\n",
       "       ...,\n",
       "\n",
       "       [[ 0.,  0.,  0., ...,  0.,  0.,  0.],\n",
       "        [ 0.,  7.,  7., ...,  0.,  0.,  0.],\n",
       "        [ 0.,  0.,  0., ..., 12.,  0.,  9.],\n",
       "        ...,\n",
       "        [ 0.,  0.,  0., ...,  6.,  0.,  0.],\n",
       "        [ 0.,  0.,  0., ...,  0.,  0.,  0.],\n",
       "        [ 0.,  0.,  0., ...,  0.,  0.,  0.]],\n",
       "\n",
       "       [[ 0.,  0.,  0., ...,  0.,  0.,  0.],\n",
       "        [ 0.,  0.,  0., ...,  0.,  0.,  0.],\n",
       "        [ 0.,  0.,  0., ...,  0.,  0.,  7.],\n",
       "        ...,\n",
       "        [ 0.,  0.,  6., ...,  0.,  1.,  0.],\n",
       "        [ 0.,  0.,  0., ...,  0.,  0.,  1.],\n",
       "        [ 0.,  0.,  0., ...,  0.,  0.,  0.]],\n",
       "\n",
       "       [[10.,  8.,  0., ..., 10., 12.,  0.],\n",
       "        [ 7.,  0.,  0., ...,  7.,  0.,  7.],\n",
       "        [ 0.,  7.,  0., ...,  0.,  7.,  0.],\n",
       "        ...,\n",
       "        [ 0.,  0.,  2., ...,  1.,  0.,  1.],\n",
       "        [ 1.,  1.,  1., ...,  1.,  0.,  0.],\n",
       "        [ 0.,  0.,  6., ...,  4.,  0.,  0.]]])"
      ]
     },
     "execution_count": 56,
     "metadata": {},
     "output_type": "execute_result"
    }
   ],
   "source": [
    "train_X = np.asarray(train_X)\n"
   ]
  }
 ],
 "metadata": {
  "kernelspec": {
   "display_name": "Python 3",
   "language": "python",
   "name": "python3"
  },
  "language_info": {
   "codemirror_mode": {
    "name": "ipython",
    "version": 3
   },
   "file_extension": ".py",
   "mimetype": "text/x-python",
   "name": "python",
   "nbconvert_exporter": "python",
   "pygments_lexer": "ipython3",
   "version": "3.7.1"
  }
 },
 "nbformat": 4,
 "nbformat_minor": 2
}
